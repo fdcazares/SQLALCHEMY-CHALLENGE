%matplotlib inline
from matplotlib import style
style.use('fivethirtyeight')
import matplotlib.pyplot as plt


import numpy as np
import pandas as pd
import datetime as dt





# Python SQL toolkit and Object Relational Mapper
import sqlalchemy
from sqlalchemy.ext.automap import automap_base
from sqlalchemy.orm import Session
from sqlalchemy import create_engine, func


# create engine to hawaii.sqlite
engine = create_engine("sqlite:///Resources/hawaii.sqlite")


# reflect an existing database into a new model
#Do this to inspect database before creating queries
base = automap_base()
# reflect the tables
base.prepare(autoload_with=engine)


# View all of the classes that automap found
base.classes.keys()


# Save references to each table
measurement = base.classes.measurement
station = base.classes.station


# Create our session (link) from Python to the DB
session = Session(engine)





# Find the most recent date in the data set.
most_recent_date = session.query(func.max(measurement.date)).first()
most_recent_date


# Design a query to retrieve the last 12 months of precipitation data and plot the results. 
# Starting from the most recent data point in the database. 

# Calculate the date one year from the last date in data set.

last_year = dt.date(2017,8,23) - dt.timedelta(days=365)
# Perform a query to retrieve the data and precipitation scores
results = session.query(measurement.date, measurement.prcp).\
filter(measurement.date >= last_year).all()

# Save the query results as a Pandas DataFrame. Explicitly set the column names
df = pd.DataFrame(results, columns=["Date","Precipitation"])

# Sort the dataframe by date
df = df.sort_values("Date")

# Use Pandas Plotting with Matplotlib to plot the data
df.plot(x="Date",y= "Precipitation",color = "green", rot=75)
plt.xlabel("Date")
plt.ylabel("Inches")
plt.title("Precipitation for Last 12 Months")
plt.show()


# Use Pandas to calculate the summary statistics for the precipitation data
df.describe()





# Design a query to calculate the total number of stations in the dataset
session.query(func.count(station.station)).all()


# Design a query to find the most active stations (i.e. which stations have the most rows?)
# List the stations and their counts in descending order.
active_stations = session.query(measurement.station, func.count(measurement.station)).\
    group_by(measurement.station).order_by(func.count(measurement.station).desc()).all()
most_active = session.query(measurement.station, func.count(measurement.station)).\
    group_by(measurement.station).order_by(func.count(measurement.station).desc()).first()
most_active_station = most_active[0]
active_stations


# Using the most active station id from the previous query, calculate the lowest, highest, and average temperature.
session.query(func.min(measurement.tobs),func.max(measurement.tobs),func.avg(measurement.tobs)).\
    filter(measurement.station == most_active_station).all()


# Using the most active station id
# Query the last 12 months of temperature observation data for this station and plot the results as a histogram

results = session.query(measurement.tobs).\
    filter(measurement.station == most_active_station).\
    filter(measurement.date >= last_year).all()
df = pd.DataFrame(results, columns = ["tobs"])
df.plot.hist(bins=12,color = "green", edgecolor = "black")
plt.tight_layout()
plt.xlabel("Temperature")
plt.ylabel("Frequency")
plt.title("Temperature for Past 12 Months of Most Active Station")







# Close Session
session.close()



